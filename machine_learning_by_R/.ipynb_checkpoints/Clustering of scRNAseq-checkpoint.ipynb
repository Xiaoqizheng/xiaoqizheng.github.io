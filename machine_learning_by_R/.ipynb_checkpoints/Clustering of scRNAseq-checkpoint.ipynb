{
 "cells": [
  {
   "cell_type": "markdown",
   "metadata": {},
   "source": [
    "# scRNAseq 的谱聚类"
   ]
  },
  {
   "cell_type": "code",
   "execution_count": 2,
   "metadata": {},
   "outputs": [],
   "source": [
    "library(dplyr)\n",
    "library(Seurat)\n",
    "library(kernlab)\n",
    "library(CrossClustering)\n",
    "library(mclust)"
   ]
  },
  {
   "cell_type": "code",
   "execution_count": 3,
   "metadata": {},
   "outputs": [],
   "source": [
    "# load benchmark dataset: zhengmix8eq\n",
    "dat0 = readRDS(file = \"~/Downloads/scrna2019-master/real_benchmarking/data/Zhengmix8eq/expr.rds\")"
   ]
  },
  {
   "cell_type": "code",
   "execution_count": 5,
   "metadata": {},
   "outputs": [
    {
     "data": {
      "text/html": [
       "<style>\n",
       ".list-inline {list-style: none; margin:0; padding: 0}\n",
       ".list-inline>li {display: inline-block}\n",
       ".list-inline>li:not(:last-child)::after {content: \"\\00b7\"; padding: 0 .5ex}\n",
       "</style>\n",
       "<ol class=list-inline><li>'b.cells'</li><li>'naive.cytotoxic'</li><li>'cd14.monocytes'</li><li>'regulatory.t'</li><li>'cd4.t.helper'</li><li>'cd56.nk'</li><li>'memory.t'</li><li>'naive.t'</li></ol>\n"
      ],
      "text/latex": [
       "\\begin{enumerate*}\n",
       "\\item 'b.cells'\n",
       "\\item 'naive.cytotoxic'\n",
       "\\item 'cd14.monocytes'\n",
       "\\item 'regulatory.t'\n",
       "\\item 'cd4.t.helper'\n",
       "\\item 'cd56.nk'\n",
       "\\item 'memory.t'\n",
       "\\item 'naive.t'\n",
       "\\end{enumerate*}\n"
      ],
      "text/markdown": [
       "1. 'b.cells'\n",
       "2. 'naive.cytotoxic'\n",
       "3. 'cd14.monocytes'\n",
       "4. 'regulatory.t'\n",
       "5. 'cd4.t.helper'\n",
       "6. 'cd56.nk'\n",
       "7. 'memory.t'\n",
       "8. 'naive.t'\n",
       "\n",
       "\n"
      ],
      "text/plain": [
       "[1] \"b.cells\"         \"naive.cytotoxic\" \"cd14.monocytes\"  \"regulatory.t\"   \n",
       "[5] \"cd4.t.helper\"    \"cd56.nk\"         \"memory.t\"        \"naive.t\"        "
      ]
     },
     "metadata": {},
     "output_type": "display_data"
    }
   ],
   "source": [
    "# 利用表面marker划分出的细胞类别，作为‘金标准’\n",
    "ID = dat0$phenoid\n",
    "unique(ID) ## 共有八类"
   ]
  },
  {
   "cell_type": "code",
   "execution_count": 6,
   "metadata": {},
   "outputs": [
    {
     "data": {
      "text/html": [
       "<style>\n",
       ".list-inline {list-style: none; margin:0; padding: 0}\n",
       ".list-inline>li {display: inline-block}\n",
       ".list-inline>li:not(:last-child)::after {content: \"\\00b7\"; padding: 0 .5ex}\n",
       "</style>\n",
       "<ol class=list-inline><li>1500</li><li>3994</li></ol>\n"
      ],
      "text/latex": [
       "\\begin{enumerate*}\n",
       "\\item 1500\n",
       "\\item 3994\n",
       "\\end{enumerate*}\n"
      ],
      "text/markdown": [
       "1. 1500\n",
       "2. 3994\n",
       "\n",
       "\n"
      ],
      "text/plain": [
       "[1] 1500 3994"
      ]
     },
     "metadata": {},
     "output_type": "display_data"
    },
    {
     "data": {
      "text/html": [
       "<table>\n",
       "<caption>A matrix: 5 × 6 of type dbl</caption>\n",
       "<thead>\n",
       "\t<tr><th></th><th scope=col>b.cells1147</th><th scope=col>b.cells6276</th><th scope=col>b.cells6144</th><th scope=col>b.cells6285</th><th scope=col>b.cells8679</th><th scope=col>b.cells6455</th></tr>\n",
       "</thead>\n",
       "<tbody>\n",
       "\t<tr><th scope=row>ENSG00000251562</th><td>29</td><td>25</td><td>34</td><td>44</td><td>42</td><td>40</td></tr>\n",
       "\t<tr><th scope=row>ENSG00000167526</th><td>24</td><td>16</td><td>31</td><td>11</td><td>15</td><td>21</td></tr>\n",
       "\t<tr><th scope=row>ENSG00000140988</th><td>15</td><td>21</td><td>18</td><td>11</td><td>13</td><td>12</td></tr>\n",
       "\t<tr><th scope=row>ENSG00000147403</th><td>16</td><td> 9</td><td>19</td><td> 4</td><td>15</td><td>11</td></tr>\n",
       "\t<tr><th scope=row>ENSG00000142541</th><td>15</td><td>15</td><td>29</td><td>11</td><td>15</td><td>18</td></tr>\n",
       "</tbody>\n",
       "</table>\n"
      ],
      "text/latex": [
       "A matrix: 5 × 6 of type dbl\n",
       "\\begin{tabular}{r|llllll}\n",
       "  & b.cells1147 & b.cells6276 & b.cells6144 & b.cells6285 & b.cells8679 & b.cells6455\\\\\n",
       "\\hline\n",
       "\tENSG00000251562 & 29 & 25 & 34 & 44 & 42 & 40\\\\\n",
       "\tENSG00000167526 & 24 & 16 & 31 & 11 & 15 & 21\\\\\n",
       "\tENSG00000140988 & 15 & 21 & 18 & 11 & 13 & 12\\\\\n",
       "\tENSG00000147403 & 16 &  9 & 19 &  4 & 15 & 11\\\\\n",
       "\tENSG00000142541 & 15 & 15 & 29 & 11 & 15 & 18\\\\\n",
       "\\end{tabular}\n"
      ],
      "text/markdown": [
       "\n",
       "A matrix: 5 × 6 of type dbl\n",
       "\n",
       "| <!--/--> | b.cells1147 | b.cells6276 | b.cells6144 | b.cells6285 | b.cells8679 | b.cells6455 |\n",
       "|---|---|---|---|---|---|---|\n",
       "| ENSG00000251562 | 29 | 25 | 34 | 44 | 42 | 40 |\n",
       "| ENSG00000167526 | 24 | 16 | 31 | 11 | 15 | 21 |\n",
       "| ENSG00000140988 | 15 | 21 | 18 | 11 | 13 | 12 |\n",
       "| ENSG00000147403 | 16 |  9 | 19 |  4 | 15 | 11 |\n",
       "| ENSG00000142541 | 15 | 15 | 29 | 11 | 15 | 18 |\n",
       "\n"
      ],
      "text/plain": [
       "                b.cells1147 b.cells6276 b.cells6144 b.cells6285 b.cells8679\n",
       "ENSG00000251562 29          25          34          44          42         \n",
       "ENSG00000167526 24          16          31          11          15         \n",
       "ENSG00000140988 15          21          18          11          13         \n",
       "ENSG00000147403 16           9          19           4          15         \n",
       "ENSG00000142541 15          15          29          11          15         \n",
       "                b.cells6455\n",
       "ENSG00000251562 40         \n",
       "ENSG00000167526 21         \n",
       "ENSG00000140988 12         \n",
       "ENSG00000147403 11         \n",
       "ENSG00000142541 18         "
      ]
     },
     "metadata": {},
     "output_type": "display_data"
    }
   ],
   "source": [
    "counts = assay(dat0,\"counts\")\n",
    "dim(counts) ## 1500个基因，3994个单细胞\n",
    "counts[1:5,1:6]"
   ]
  },
  {
   "cell_type": "code",
   "execution_count": null,
   "metadata": {},
   "outputs": [],
   "source": []
  }
 ],
 "metadata": {
  "kernelspec": {
   "display_name": "R",
   "language": "R",
   "name": "ir"
  },
  "language_info": {
   "codemirror_mode": "r",
   "file_extension": ".r",
   "mimetype": "text/x-r-source",
   "name": "R",
   "pygments_lexer": "r",
   "version": "3.6.1"
  }
 },
 "nbformat": 4,
 "nbformat_minor": 2
}
