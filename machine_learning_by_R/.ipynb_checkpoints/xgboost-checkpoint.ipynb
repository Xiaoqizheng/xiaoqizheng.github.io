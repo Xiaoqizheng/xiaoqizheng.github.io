{
 "cells": [
  {
   "cell_type": "markdown",
   "metadata": {},
   "source": [
    "# Boosting methods in R\n",
    "### by Xiaoqi Zheng, 0724/2020"
   ]
  },
  {
   "cell_type": "code",
   "execution_count": 76,
   "metadata": {},
   "outputs": [],
   "source": [
    "library(rsample)      # data splitting \n",
    "library(gbm)          # basic implementation\n",
    "library(xgboost)      # a faster implementation of gbm\n",
    "library(caret)        # an aggregator package for performing many machine learning"
   ]
  },
  {
   "cell_type": "code",
   "execution_count": 77,
   "metadata": {},
   "outputs": [
    {
     "data": {
      "text/html": [
       "<table>\n",
       "<caption>A data.frame: 5 × 5</caption>\n",
       "<thead>\n",
       "\t<tr><th></th><th scope=col>Private</th><th scope=col>Apps</th><th scope=col>Accept</th><th scope=col>Enroll</th><th scope=col>Top10perc</th></tr>\n",
       "\t<tr><th></th><th scope=col>&lt;fct&gt;</th><th scope=col>&lt;dbl&gt;</th><th scope=col>&lt;dbl&gt;</th><th scope=col>&lt;dbl&gt;</th><th scope=col>&lt;dbl&gt;</th></tr>\n",
       "</thead>\n",
       "<tbody>\n",
       "\t<tr><th scope=row>Abilene Christian University</th><td>Yes</td><td>1660</td><td>1232</td><td>721</td><td>23</td></tr>\n",
       "\t<tr><th scope=row>Adelphi University</th><td>Yes</td><td>2186</td><td>1924</td><td>512</td><td>16</td></tr>\n",
       "\t<tr><th scope=row>Adrian College</th><td>Yes</td><td>1428</td><td>1097</td><td>336</td><td>22</td></tr>\n",
       "\t<tr><th scope=row>Agnes Scott College</th><td>Yes</td><td> 417</td><td> 349</td><td>137</td><td>60</td></tr>\n",
       "\t<tr><th scope=row>Alaska Pacific University</th><td>Yes</td><td> 193</td><td> 146</td><td> 55</td><td>16</td></tr>\n",
       "</tbody>\n",
       "</table>\n"
      ],
      "text/latex": [
       "A data.frame: 5 × 5\n",
       "\\begin{tabular}{r|lllll}\n",
       "  & Private & Apps & Accept & Enroll & Top10perc\\\\\n",
       "  & <fct> & <dbl> & <dbl> & <dbl> & <dbl>\\\\\n",
       "\\hline\n",
       "\tAbilene Christian University & Yes & 1660 & 1232 & 721 & 23\\\\\n",
       "\tAdelphi University & Yes & 2186 & 1924 & 512 & 16\\\\\n",
       "\tAdrian College & Yes & 1428 & 1097 & 336 & 22\\\\\n",
       "\tAgnes Scott College & Yes &  417 &  349 & 137 & 60\\\\\n",
       "\tAlaska Pacific University & Yes &  193 &  146 &  55 & 16\\\\\n",
       "\\end{tabular}\n"
      ],
      "text/markdown": [
       "\n",
       "A data.frame: 5 × 5\n",
       "\n",
       "| <!--/--> | Private &lt;fct&gt; | Apps &lt;dbl&gt; | Accept &lt;dbl&gt; | Enroll &lt;dbl&gt; | Top10perc &lt;dbl&gt; |\n",
       "|---|---|---|---|---|---|\n",
       "| Abilene Christian University | Yes | 1660 | 1232 | 721 | 23 |\n",
       "| Adelphi University | Yes | 2186 | 1924 | 512 | 16 |\n",
       "| Adrian College | Yes | 1428 | 1097 | 336 | 22 |\n",
       "| Agnes Scott College | Yes |  417 |  349 | 137 | 60 |\n",
       "| Alaska Pacific University | Yes |  193 |  146 |  55 | 16 |\n",
       "\n"
      ],
      "text/plain": [
       "                             Private Apps Accept Enroll Top10perc\n",
       "Abilene Christian University Yes     1660 1232   721    23       \n",
       "Adelphi University           Yes     2186 1924   512    16       \n",
       "Adrian College               Yes     1428 1097   336    22       \n",
       "Agnes Scott College          Yes      417  349   137    60       \n",
       "Alaska Pacific University    Yes      193  146    55    16       "
      ]
     },
     "metadata": {},
     "output_type": "display_data"
    },
    {
     "data": {
      "text/html": [
       "<style>\n",
       ".list-inline {list-style: none; margin:0; padding: 0}\n",
       ".list-inline>li {display: inline-block}\n",
       ".list-inline>li:not(:last-child)::after {content: \"\\00b7\"; padding: 0 .5ex}\n",
       "</style>\n",
       "<ol class=list-inline><li>777</li><li>18</li></ol>\n"
      ],
      "text/latex": [
       "\\begin{enumerate*}\n",
       "\\item 777\n",
       "\\item 18\n",
       "\\end{enumerate*}\n"
      ],
      "text/markdown": [
       "1. 777\n",
       "2. 18\n",
       "\n",
       "\n"
      ],
      "text/plain": [
       "[1] 777  18"
      ]
     },
     "metadata": {},
     "output_type": "display_data"
    }
   ],
   "source": [
    "## load data\n",
    "library(tidyverse)\n",
    "library(ISLR)\n",
    "\n",
    "ml_data <- College\n",
    "ml_data[1:5,1:5]\n",
    "dim(ml_data)"
   ]
  },
  {
   "cell_type": "code",
   "execution_count": 78,
   "metadata": {},
   "outputs": [],
   "source": [
    "# Partition into training and test data\n",
    "set.seed(42)\n",
    "index <- createDataPartition(ml_data$Private, p = 0.7, list = FALSE)\n",
    "train_data <- ml_data[index, ]\n",
    "test_data  <- ml_data[-index, ]"
   ]
  },
  {
   "cell_type": "markdown",
   "metadata": {},
   "source": [
    "## 1. Gradient Boosting Machines (GBM)"
   ]
  },
  {
   "cell_type": "code",
   "execution_count": 79,
   "metadata": {},
   "outputs": [
    {
     "data": {
      "text/plain": [
       "Stochastic Gradient Boosting \n",
       "\n",
       "545 samples\n",
       " 17 predictor\n",
       "  2 classes: 'No', 'Yes' \n",
       "\n",
       "No pre-processing\n",
       "Resampling: Cross-Validated (5 fold, repeated 3 times) \n",
       "Summary of sample sizes: 437, 436, 436, 435, 436, 436, ... \n",
       "Resampling results across tuning parameters:\n",
       "\n",
       "  interaction.depth  n.trees  Accuracy   Kappa    \n",
       "  1                   50      0.9369738  0.8366455\n",
       "  1                  100      0.9388143  0.8424288\n",
       "  1                  150      0.9443022  0.8584537\n",
       "  2                   50      0.9430959  0.8521284\n",
       "  2                  100      0.9449251  0.8583012\n",
       "  2                  150      0.9442967  0.8579690\n",
       "  3                   50      0.9381859  0.8399493\n",
       "  3                  100      0.9412385  0.8490957\n",
       "  3                  150      0.9485780  0.8686399\n",
       "\n",
       "Tuning parameter 'shrinkage' was held constant at a value of 0.1\n",
       "\n",
       "Tuning parameter 'n.minobsinnode' was held constant at a value of 10\n",
       "Accuracy was used to select the optimal model using the largest value.\n",
       "The final values used for the model were n.trees = 150, interaction.depth =\n",
       " 3, shrinkage = 0.1 and n.minobsinnode = 10."
      ]
     },
     "metadata": {},
     "output_type": "display_data"
    }
   ],
   "source": [
    "# Train model with preprocessing & repeated cv\n",
    "model_gbm <- caret::train(Private ~ .,\n",
    "                          data = train_data,\n",
    "                          method = \"gbm\",\n",
    "                          trControl = trainControl(method = \"repeatedcv\", \n",
    "                                                  number = 5, \n",
    "                                                  repeats = 3, \n",
    "                                                  verboseIter = FALSE),\n",
    "                          verbose = 0)\n",
    "model_gbm"
   ]
  },
  {
   "cell_type": "code",
   "execution_count": 80,
   "metadata": {},
   "outputs": [
    {
     "data": {
      "text/plain": [
       "Confusion Matrix and Statistics\n",
       "\n",
       "          Reference\n",
       "Prediction  No Yes\n",
       "       No   56   6\n",
       "       Yes   7 163\n",
       "                                          \n",
       "               Accuracy : 0.944           \n",
       "                 95% CI : (0.9061, 0.9698)\n",
       "    No Information Rate : 0.7284          \n",
       "    P-Value [Acc > NIR] : <2e-16          \n",
       "                                          \n",
       "                  Kappa : 0.8577          \n",
       "                                          \n",
       " Mcnemar's Test P-Value : 1               \n",
       "                                          \n",
       "            Sensitivity : 0.8889          \n",
       "            Specificity : 0.9645          \n",
       "         Pos Pred Value : 0.9032          \n",
       "         Neg Pred Value : 0.9588          \n",
       "             Prevalence : 0.2716          \n",
       "         Detection Rate : 0.2414          \n",
       "   Detection Prevalence : 0.2672          \n",
       "      Balanced Accuracy : 0.9267          \n",
       "                                          \n",
       "       'Positive' Class : No              \n",
       "                                          "
      ]
     },
     "metadata": {},
     "output_type": "display_data"
    }
   ],
   "source": [
    "## test \n",
    "caret::confusionMatrix(data = predict(model_gbm, test_data),\n",
    "                       reference = test_data$Private)"
   ]
  },
  {
   "cell_type": "markdown",
   "metadata": {},
   "source": [
    "## 2. eXtreme Gradient Boosting (XGboost)"
   ]
  },
  {
   "cell_type": "code",
   "execution_count": 96,
   "metadata": {},
   "outputs": [],
   "source": [
    "trctrl <- trainControl(method = \"cv\", number = 5)\n",
    "\n",
    "tune_grid <- expand.grid(nrounds = 100:150,\n",
    "                        max_depth = 5,\n",
    "                        eta = 0.05,\n",
    "                        gamma = 0.01,\n",
    "                        colsample_bytree = 0.75,\n",
    "                        min_child_weight = 0,\n",
    "                        subsample = 0.5)\n",
    "\n",
    "rf_fit <- train(Private ~ .,\n",
    "                data = train_data, \n",
    "                method = \"xgbTree\",\n",
    "                trControl=trctrl,\n",
    "                tuneGrid = tune_grid,\n",
    "                tuneLength = 10)"
   ]
  },
  {
   "cell_type": "code",
   "execution_count": 98,
   "metadata": {},
   "outputs": [
    {
     "data": {
      "text/plain": [
       "eXtreme Gradient Boosting \n",
       "\n",
       "545 samples\n",
       " 17 predictor\n",
       "  2 classes: 'No', 'Yes' \n",
       "\n",
       "No pre-processing\n",
       "Resampling: Cross-Validated (5 fold) \n",
       "Summary of sample sizes: 436, 437, 436, 435, 436 \n",
       "Resampling results across tuning parameters:\n",
       "\n",
       "  nrounds  Accuracy   Kappa    \n",
       "   10      0.9339422  0.8283897\n",
       "   11      0.9412480  0.8459599\n",
       "   12      0.9394131  0.8411165\n",
       "   13      0.9394131  0.8411165\n",
       "   14      0.9412480  0.8452833\n",
       "   15      0.9376119  0.8367592\n",
       "   16      0.9376119  0.8376159\n",
       "   17      0.9375782  0.8376041\n",
       "   18      0.9357264  0.8320201\n",
       "   19      0.9394131  0.8419746\n",
       "   20      0.9394131  0.8418589\n",
       "   21      0.9375782  0.8381638\n",
       "   22      0.9394131  0.8431954\n",
       "   23      0.9375782  0.8381638\n",
       "   24      0.9412480  0.8474790\n",
       "   25      0.9394131  0.8431954\n",
       "   26      0.9375612  0.8376403\n",
       "   27      0.9394301  0.8435936\n",
       "   28      0.9394131  0.8431954\n",
       "   29      0.9375782  0.8381638\n",
       "   30      0.9412649  0.8476126\n",
       "   31      0.9375782  0.8370127\n",
       "   32      0.9412649  0.8465522\n",
       "   33      0.9375782  0.8370127\n",
       "   34      0.9375782  0.8381638\n",
       "   35      0.9393961  0.8419031\n",
       "   36      0.9412480  0.8474582\n",
       "   37      0.9393961  0.8419031\n",
       "   38      0.9375442  0.8362183\n",
       "   39      0.9375442  0.8362183\n",
       "   40      0.9375442  0.8362183\n",
       "   41      0.9393791  0.8405712\n",
       "   42      0.9375442  0.8362183\n",
       "   43      0.9393791  0.8405712\n",
       "   44      0.9375442  0.8362183\n",
       "   45      0.9375442  0.8362183\n",
       "   46      0.9430828  0.8518111\n",
       "   47      0.9393961  0.8419031\n",
       "   48      0.9412480  0.8474582\n",
       "   49      0.9393961  0.8419031\n",
       "   50      0.9393961  0.8419031\n",
       "   51      0.9393961  0.8419031\n",
       "   52      0.9393791  0.8405712\n",
       "   53      0.9412310  0.8462560\n",
       "   54      0.9394131  0.8426148\n",
       "   55      0.9412310  0.8456963\n",
       "   56      0.9393961  0.8414126\n",
       "   57      0.9393961  0.8414126\n",
       "   58      0.9393961  0.8414126\n",
       "   59      0.9412310  0.8462560\n",
       "   60      0.9412310  0.8462560\n",
       "   61      0.9412310  0.8462560\n",
       "   62      0.9393961  0.8416181\n",
       "   63      0.9412310  0.8462560\n",
       "   64      0.9393961  0.8414126\n",
       "   65      0.9412310  0.8456963\n",
       "   66      0.9393961  0.8410548\n",
       "   67      0.9393961  0.8410548\n",
       "   68      0.9393961  0.8410548\n",
       "   69      0.9393961  0.8410548\n",
       "   70      0.9412480  0.8454587\n",
       "   71      0.9412480  0.8454587\n",
       "   72      0.9393961  0.8410548\n",
       "   73      0.9393961  0.8410548\n",
       "   74      0.9412480  0.8454587\n",
       "   75      0.9412480  0.8454587\n",
       "   76      0.9412480  0.8454587\n",
       "   77      0.9412480  0.8454587\n",
       "   78      0.9394131  0.8411786\n",
       "   79      0.9412480  0.8454587\n",
       "   80      0.9412480  0.8454587\n",
       "   81      0.9412480  0.8454587\n",
       "   82      0.9394131  0.8411786\n",
       "   83      0.9394131  0.8411786\n",
       "   84      0.9394131  0.8411786\n",
       "   85      0.9394131  0.8411786\n",
       "   86      0.9375612  0.8367747\n",
       "   87      0.9394131  0.8411786\n",
       "   88      0.9394131  0.8411786\n",
       "   89      0.9394131  0.8411786\n",
       "   90      0.9375612  0.8354786\n",
       "   91      0.9394131  0.8411786\n",
       "   92      0.9394131  0.8411786\n",
       "   93      0.9394131  0.8411786\n",
       "   94      0.9394131  0.8411786\n",
       "   95      0.9412480  0.8460220\n",
       "   96      0.9412480  0.8460220\n",
       "   97      0.9412480  0.8460220\n",
       "   98      0.9430828  0.8503021\n",
       "   99      0.9394131  0.8411786\n",
       "  100      0.9375782  0.8369835\n",
       "  101      0.9375782  0.8369835\n",
       "  102      0.9375782  0.8369835\n",
       "  103      0.9375782  0.8369835\n",
       "  104      0.9375782  0.8369835\n",
       "  105      0.9375782  0.8369835\n",
       "  106      0.9394131  0.8411786\n",
       "  107      0.9375782  0.8369835\n",
       "  108      0.9375782  0.8369835\n",
       "  109      0.9412480  0.8460220\n",
       "  110      0.9412480  0.8460220\n",
       "  111      0.9394131  0.8411786\n",
       "  112      0.9394131  0.8411786\n",
       "  113      0.9394131  0.8411786\n",
       "  114      0.9412649  0.8467470\n",
       "  115      0.9375782  0.8369835\n",
       "  116      0.9394301  0.8425518\n",
       "  117      0.9394301  0.8425518\n",
       "  118      0.9394301  0.8425518\n",
       "  119      0.9394301  0.8425518\n",
       "  120      0.9394301  0.8425518\n",
       "  121      0.9394301  0.8425518\n",
       "  122      0.9394301  0.8425518\n",
       "  123      0.9394301  0.8425518\n",
       "  124      0.9394301  0.8425518\n",
       "  125      0.9394301  0.8425518\n",
       "  126      0.9412649  0.8467470\n",
       "  127      0.9412649  0.8467470\n",
       "  128      0.9412649  0.8467470\n",
       "  129      0.9412649  0.8467470\n",
       "  130      0.9412649  0.8467470\n",
       "  131      0.9412649  0.8467470\n",
       "  132      0.9412649  0.8467470\n",
       "  133      0.9412649  0.8467470\n",
       "  134      0.9431168  0.8521883\n",
       "  135      0.9431168  0.8521883\n",
       "  136      0.9431168  0.8521883\n",
       "  137      0.9431168  0.8521883\n",
       "  138      0.9431168  0.8521883\n",
       "  139      0.9431168  0.8521883\n",
       "  140      0.9449517  0.8570317\n",
       "  141      0.9449517  0.8570317\n",
       "  142      0.9431168  0.8521883\n",
       "  143      0.9431168  0.8521883\n",
       "  144      0.9449686  0.8567193\n",
       "  145      0.9449517  0.8570317\n",
       "  146      0.9449517  0.8570317\n",
       "  147      0.9467865  0.8617749\n",
       "  148      0.9449517  0.8570317\n",
       "  149      0.9467865  0.8617749\n",
       "  150      0.9468035  0.8615627\n",
       "\n",
       "Tuning parameter 'max_depth' was held constant at a value of 5\n",
       "Tuning\n",
       "\n",
       "Tuning parameter 'min_child_weight' was held constant at a value of 0\n",
       "\n",
       "Tuning parameter 'subsample' was held constant at a value of 0.5\n",
       "Accuracy was used to select the optimal model using the largest value.\n",
       "The final values used for the model were nrounds = 150, max_depth = 5, eta\n",
       " = 0.05, gamma = 0.01, colsample_bytree = 0.75, min_child_weight = 0\n",
       " and subsample = 0.5."
      ]
     },
     "metadata": {},
     "output_type": "display_data"
    }
   ],
   "source": [
    "# have a look at the model \n",
    "rf_fit"
   ]
  },
  {
   "cell_type": "code",
   "execution_count": 99,
   "metadata": {
    "scrolled": true
   },
   "outputs": [],
   "source": [
    "# Testing\n",
    "test_predict <- predict(rf_fit, test_data)"
   ]
  },
  {
   "cell_type": "code",
   "execution_count": 100,
   "metadata": {},
   "outputs": [
    {
     "data": {
      "text/plain": [
       "Confusion Matrix and Statistics\n",
       "\n",
       "          Reference\n",
       "Prediction  No Yes\n",
       "       No   54   7\n",
       "       Yes   9 162\n",
       "                                          \n",
       "               Accuracy : 0.931           \n",
       "                 95% CI : (0.8904, 0.9601)\n",
       "    No Information Rate : 0.7284          \n",
       "    P-Value [Acc > NIR] : 4.085e-15       \n",
       "                                          \n",
       "                  Kappa : 0.8239          \n",
       "                                          \n",
       " Mcnemar's Test P-Value : 0.8026          \n",
       "                                          \n",
       "            Sensitivity : 0.8571          \n",
       "            Specificity : 0.9586          \n",
       "         Pos Pred Value : 0.8852          \n",
       "         Neg Pred Value : 0.9474          \n",
       "             Prevalence : 0.2716          \n",
       "         Detection Rate : 0.2328          \n",
       "   Detection Prevalence : 0.2629          \n",
       "      Balanced Accuracy : 0.9079          \n",
       "                                          \n",
       "       'Positive' Class : No              \n",
       "                                          "
      ]
     },
     "metadata": {},
     "output_type": "display_data"
    }
   ],
   "source": [
    "caret::confusionMatrix(data = test_predict,\n",
    "                       reference = test_data$Private)"
   ]
  },
  {
   "cell_type": "markdown",
   "metadata": {},
   "source": [
    "Also see: https://www.hackerearth.com/zh/practice/machine-learning/machine-learning-algorithms/beginners-tutorial-on-xgboost-parameter-tuning-r/tutorial/"
   ]
  },
  {
   "cell_type": "code",
   "execution_count": null,
   "metadata": {},
   "outputs": [],
   "source": []
  }
 ],
 "metadata": {
  "kernelspec": {
   "display_name": "R",
   "language": "R",
   "name": "ir"
  },
  "language_info": {
   "codemirror_mode": "r",
   "file_extension": ".r",
   "mimetype": "text/x-r-source",
   "name": "R",
   "pygments_lexer": "r",
   "version": "4.0.0"
  }
 },
 "nbformat": 4,
 "nbformat_minor": 2
}
