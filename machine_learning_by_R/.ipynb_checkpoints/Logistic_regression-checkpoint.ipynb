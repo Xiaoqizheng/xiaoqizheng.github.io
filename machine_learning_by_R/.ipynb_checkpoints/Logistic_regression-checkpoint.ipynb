{
 "cells": [
  {
   "cell_type": "markdown",
   "metadata": {},
   "source": [
    "# Logisitic regression\n",
    "### Xiaoqi Zheng, 0328/2020"
   ]
  },
  {
   "cell_type": "markdown",
   "metadata": {},
   "source": [
    "## 1. Binary classification"
   ]
  },
  {
   "cell_type": "code",
   "execution_count": 10,
   "metadata": {},
   "outputs": [
    {
     "name": "stdout",
     "output_type": "stream",
     "text": [
      "                  am cyl  hp    wt\n",
      "Mazda RX4          1   6 110 2.620\n",
      "Mazda RX4 Wag      1   6 110 2.875\n",
      "Datsun 710         1   4  93 2.320\n",
      "Hornet 4 Drive     0   6 110 3.215\n",
      "Hornet Sportabout  0   8 175 3.440\n",
      "Valiant            0   6 105 3.460\n"
     ]
    },
    {
     "data": {
      "text/plain": [
       "   Min. 1st Qu.  Median    Mean 3rd Qu.    Max. \n",
       " 0.0000  0.0000  0.0000  0.4062  1.0000  1.0000 "
      ]
     },
     "metadata": {},
     "output_type": "display_data"
    }
   ],
   "source": [
    "# Select some columns form mtcars.\n",
    "input <- mtcars[,c(\"am\",\"cyl\",\"hp\",\"wt\")]\n",
    "print(head(input))"
   ]
  },
  {
   "cell_type": "code",
   "execution_count": 11,
   "metadata": {},
   "outputs": [
    {
     "name": "stdout",
     "output_type": "stream",
     "text": [
      "\n",
      "Call:\n",
      "glm(formula = am ~ cyl + hp + wt, family = binomial, data = input)\n",
      "\n",
      "Deviance Residuals: \n",
      "     Min        1Q    Median        3Q       Max  \n",
      "-2.17272  -0.14907  -0.01464   0.14116   1.27641  \n",
      "\n",
      "Coefficients:\n",
      "            Estimate Std. Error z value Pr(>|z|)  \n",
      "(Intercept) 19.70288    8.11637   2.428   0.0152 *\n",
      "cyl          0.48760    1.07162   0.455   0.6491  \n",
      "hp           0.03259    0.01886   1.728   0.0840 .\n",
      "wt          -9.14947    4.15332  -2.203   0.0276 *\n",
      "---\n",
      "Signif. codes:  0 ‘***’ 0.001 ‘**’ 0.01 ‘*’ 0.05 ‘.’ 0.1 ‘ ’ 1\n",
      "\n",
      "(Dispersion parameter for binomial family taken to be 1)\n",
      "\n",
      "    Null deviance: 43.2297  on 31  degrees of freedom\n",
      "Residual deviance:  9.8415  on 28  degrees of freedom\n",
      "AIC: 17.841\n",
      "\n",
      "Number of Fisher Scoring iterations: 8\n",
      "\n"
     ]
    }
   ],
   "source": [
    "lr_model = glm(formula = am ~ cyl + hp + wt, data = input, family = binomial) #binomial\n",
    "\n",
    "print(summary(lr_model))"
   ]
  },
  {
   "cell_type": "code",
   "execution_count": 16,
   "metadata": {},
   "outputs": [
    {
     "data": {
      "text/html": [
       "<style>\n",
       ".dl-inline {width: auto; margin:0; padding: 0}\n",
       ".dl-inline>dt, .dl-inline>dd {float: none; width: auto; display: inline-block}\n",
       ".dl-inline>dt::after {content: \":\\0020\"; padding-right: .5ex}\n",
       ".dl-inline>dt:not(:first-of-type) {padding-left: .5ex}\n",
       "</style><dl class=dl-inline><dt>Mazda RX4</dt><dd>0.903953047026927</dd><dt>Mazda RX4 Wag</dt><dd>0.477222047160205</dd><dt>Datsun 710</dt><dd>0.969454826617659</dd><dt>Hornet 4 Drive</dt><dd>0.0390907107249122</dd><dt>Hornet Sportabout</dt><dd>0.102755934343917</dd><dt>Valiant</dt><dd>0.00366018753537319</dd><dt>Duster 360</dt><dd>0.25445618070294</dd><dt>Merc 240D</dt><dd>0.00401836082535989</dd><dt>Merc 230</dt><dd>0.016768365856569</dd><dt>Merc 280</dt><dd>0.00786892008810971</dd><dt>Merc 280C</dt><dd>0.00786892008810971</dd><dt>Merc 450SE</dt><dd>0.000422803627926362</dd><dt>Merc 450SL</dt><dd>0.00940224932948466</dd><dt>Merc 450SLC</dt><dd>0.00597111159601034</dd><dt>Cadillac Fleetwood</dt><dd>1.95602957326964e-08</dd><dt>Lincoln Continental</dt><dd>5.51466305591553e-09</dd><dt>Chrysler Imperial</dt><dd>1.85244949814985e-08</dd><dt>Fiat 128</dt><dd>0.975289076001948</dd><dt>Honda Civic</dt><dd>0.999810635175783</dd><dt>Toyota Corolla</dt><dd>0.999072837242012</dd><dt>Toyota Corona</dt><dd>0.905614013348519</dd><dt>Dodge Challenger</dt><dd>0.0238060646375856</dd><dt>AMC Javelin</dt><dd>0.0504016186516521</dd><dt>Camaro Z28</dt><dd>0.028049269907474</dd><dt>Pontiac Firebird</dt><dd>0.00280789827209082</dd><dt>Fiat X1-9</dt><dd>0.997762371154512</dd><dt>Porsche 914-2</dt><dd>0.993563088223638</dd><dt>Lotus Europa</dt><dd>0.999989798688108</dd><dt>Ford Pantera L</dt><dd>0.960986217303792</dd><dt>Ferrari Dino</dt><dd>0.952028070919751</dd><dt>Maserati Bora</dt><dd>0.86509465625601</dd><dt>Volvo 142E</dt><dd>0.442810675094153</dd></dl>\n"
      ],
      "text/latex": [
       "\\begin{description*}\n",
       "\\item[Mazda RX4] 0.903953047026927\n",
       "\\item[Mazda RX4 Wag] 0.477222047160205\n",
       "\\item[Datsun 710] 0.969454826617659\n",
       "\\item[Hornet 4 Drive] 0.0390907107249122\n",
       "\\item[Hornet Sportabout] 0.102755934343917\n",
       "\\item[Valiant] 0.00366018753537319\n",
       "\\item[Duster 360] 0.25445618070294\n",
       "\\item[Merc 240D] 0.00401836082535989\n",
       "\\item[Merc 230] 0.016768365856569\n",
       "\\item[Merc 280] 0.00786892008810971\n",
       "\\item[Merc 280C] 0.00786892008810971\n",
       "\\item[Merc 450SE] 0.000422803627926362\n",
       "\\item[Merc 450SL] 0.00940224932948466\n",
       "\\item[Merc 450SLC] 0.00597111159601034\n",
       "\\item[Cadillac Fleetwood] 1.95602957326964e-08\n",
       "\\item[Lincoln Continental] 5.51466305591553e-09\n",
       "\\item[Chrysler Imperial] 1.85244949814985e-08\n",
       "\\item[Fiat 128] 0.975289076001948\n",
       "\\item[Honda Civic] 0.999810635175783\n",
       "\\item[Toyota Corolla] 0.999072837242012\n",
       "\\item[Toyota Corona] 0.905614013348519\n",
       "\\item[Dodge Challenger] 0.0238060646375856\n",
       "\\item[AMC Javelin] 0.0504016186516521\n",
       "\\item[Camaro Z28] 0.028049269907474\n",
       "\\item[Pontiac Firebird] 0.00280789827209082\n",
       "\\item[Fiat X1-9] 0.997762371154512\n",
       "\\item[Porsche 914-2] 0.993563088223638\n",
       "\\item[Lotus Europa] 0.999989798688108\n",
       "\\item[Ford Pantera L] 0.960986217303792\n",
       "\\item[Ferrari Dino] 0.952028070919751\n",
       "\\item[Maserati Bora] 0.86509465625601\n",
       "\\item[Volvo 142E] 0.442810675094153\n",
       "\\end{description*}\n"
      ],
      "text/markdown": [
       "Mazda RX4\n",
       ":   0.903953047026927Mazda RX4 Wag\n",
       ":   0.477222047160205Datsun 710\n",
       ":   0.969454826617659Hornet 4 Drive\n",
       ":   0.0390907107249122Hornet Sportabout\n",
       ":   0.102755934343917Valiant\n",
       ":   0.00366018753537319Duster 360\n",
       ":   0.25445618070294Merc 240D\n",
       ":   0.00401836082535989Merc 230\n",
       ":   0.016768365856569Merc 280\n",
       ":   0.00786892008810971Merc 280C\n",
       ":   0.00786892008810971Merc 450SE\n",
       ":   0.000422803627926362Merc 450SL\n",
       ":   0.00940224932948466Merc 450SLC\n",
       ":   0.00597111159601034Cadillac Fleetwood\n",
       ":   1.95602957326964e-08Lincoln Continental\n",
       ":   5.51466305591553e-09Chrysler Imperial\n",
       ":   1.85244949814985e-08Fiat 128\n",
       ":   0.975289076001948Honda Civic\n",
       ":   0.999810635175783Toyota Corolla\n",
       ":   0.999072837242012Toyota Corona\n",
       ":   0.905614013348519Dodge Challenger\n",
       ":   0.0238060646375856AMC Javelin\n",
       ":   0.0504016186516521Camaro Z28\n",
       ":   0.028049269907474Pontiac Firebird\n",
       ":   0.00280789827209082Fiat X1-9\n",
       ":   0.997762371154512Porsche 914-2\n",
       ":   0.993563088223638Lotus Europa\n",
       ":   0.999989798688108Ford Pantera L\n",
       ":   0.960986217303792Ferrari Dino\n",
       ":   0.952028070919751Maserati Bora\n",
       ":   0.86509465625601Volvo 142E\n",
       ":   0.442810675094153\n",
       "\n"
      ],
      "text/plain": [
       "          Mazda RX4       Mazda RX4 Wag          Datsun 710      Hornet 4 Drive \n",
       "       9.039530e-01        4.772220e-01        9.694548e-01        3.909071e-02 \n",
       "  Hornet Sportabout             Valiant          Duster 360           Merc 240D \n",
       "       1.027559e-01        3.660188e-03        2.544562e-01        4.018361e-03 \n",
       "           Merc 230            Merc 280           Merc 280C          Merc 450SE \n",
       "       1.676837e-02        7.868920e-03        7.868920e-03        4.228036e-04 \n",
       "         Merc 450SL         Merc 450SLC  Cadillac Fleetwood Lincoln Continental \n",
       "       9.402249e-03        5.971112e-03        1.956030e-08        5.514663e-09 \n",
       "  Chrysler Imperial            Fiat 128         Honda Civic      Toyota Corolla \n",
       "       1.852449e-08        9.752891e-01        9.998106e-01        9.990728e-01 \n",
       "      Toyota Corona    Dodge Challenger         AMC Javelin          Camaro Z28 \n",
       "       9.056140e-01        2.380606e-02        5.040162e-02        2.804927e-02 \n",
       "   Pontiac Firebird           Fiat X1-9       Porsche 914-2        Lotus Europa \n",
       "       2.807898e-03        9.977624e-01        9.935631e-01        9.999898e-01 \n",
       "     Ford Pantera L        Ferrari Dino       Maserati Bora          Volvo 142E \n",
       "       9.609862e-01        9.520281e-01        8.650947e-01        4.428107e-01 "
      ]
     },
     "metadata": {},
     "output_type": "display_data"
    }
   ],
   "source": [
    "test_prob = predict(object = lr_model,newdata = input,type = 'response')\n",
    "test_prob "
   ]
  },
  {
   "cell_type": "code",
   "execution_count": 17,
   "metadata": {},
   "outputs": [
    {
     "data": {
      "text/plain": [
       "        \n",
       "glm.pred  0  1\n",
       "    Down 18  2\n",
       "    Up    1 11"
      ]
     },
     "metadata": {},
     "output_type": "display_data"
    }
   ],
   "source": [
    "glm.pred = ifelse(test_prob > 0.5, \"Up\", \"Down\")\n",
    "table(glm.pred,input$am)"
   ]
  },
  {
   "cell_type": "markdown",
   "metadata": {},
   "source": [
    "## 2. Multi-group classification"
   ]
  },
  {
   "cell_type": "code",
   "execution_count": null,
   "metadata": {},
   "outputs": [],
   "source": []
  }
 ],
 "metadata": {
  "kernelspec": {
   "display_name": "R",
   "language": "R",
   "name": "ir"
  },
  "language_info": {
   "codemirror_mode": "r",
   "file_extension": ".r",
   "mimetype": "text/x-r-source",
   "name": "R",
   "pygments_lexer": "r",
   "version": "3.6.1"
  }
 },
 "nbformat": 4,
 "nbformat_minor": 2
}
